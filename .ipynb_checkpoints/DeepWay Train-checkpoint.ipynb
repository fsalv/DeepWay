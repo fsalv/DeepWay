{
 "cells": [
  {
   "cell_type": "markdown",
   "metadata": {},
   "source": [
    "# Train DeepWay, a DNN able to Detect Waypoints for Autonomous Navigation in Row based Crops\n",
    "\n",
    "Train a deep neaural network to automatically detect waypoints from a occupancy grid map of a row based crop. The waypoints can be used to generate aa road map for a UGV. That combined with a local motion planner and data fusion localization methodologies can provide a robust and complete autonomous navigation in vineyards. "
   ]
  },
  {
   "cell_type": "code",
   "execution_count": null,
   "metadata": {
    "ExecuteTime": {
     "end_time": "2020-10-29T16:31:25.335992Z",
     "start_time": "2020-10-29T16:31:25.212576Z"
    }
   },
   "outputs": [],
   "source": [
    "%matplotlib inline\n",
    "%reload_ext autoreload\n",
    "%autoreload 2"
   ]
  },
  {
   "cell_type": "code",
   "execution_count": null,
   "metadata": {
    "ExecuteTime": {
     "end_time": "2020-10-29T16:31:26.228093Z",
     "start_time": "2020-10-29T16:31:25.337001Z"
    }
   },
   "outputs": [],
   "source": [
    "# import some libraries\n",
    "import os\n",
    "import numpy as np\n",
    "import matplotlib.pyplot as plt\n",
    "import tensorflow as tf\n",
    "import pandas as pd\n",
    "import glob\n",
    "import cv2\n",
    "from tqdm.notebook import tqdm\n",
    "from utils.visualization import plotData, plotHistory, plotDataRes, plotImages\n",
    "from utils.tools_net import waypointProxSup, interpret, deepPathLoss\n",
    "from utils.tools import load_config, resizeAddCorrection\n",
    "from utils.deep_way_net import build_deepway"
   ]
  },
  {
   "cell_type": "code",
   "execution_count": null,
   "metadata": {
    "ExecuteTime": {
     "end_time": "2020-10-29T16:31:26.260734Z",
     "start_time": "2020-10-29T16:31:26.229442Z"
    }
   },
   "outputs": [],
   "source": [
    "# select a GPU and set memory growth \n",
    "gpus = tf.config.experimental.list_physical_devices('GPU')\n",
    "tf.config.experimental.set_visible_devices(gpus[0], 'GPU')\n",
    "tf.config.experimental.set_memory_growth(gpus[0], True)"
   ]
  },
  {
   "cell_type": "code",
   "execution_count": null,
   "metadata": {
    "ExecuteTime": {
     "end_time": "2020-10-29T16:31:26.276902Z",
     "start_time": "2020-10-29T16:31:26.261839Z"
    }
   },
   "outputs": [],
   "source": [
    "# important paths and names\n",
    "PATH_DIR = os.path.abspath('.')\n",
    "\n",
    "TRAIN_DATA_PATH = os.path.join(PATH_DIR, 'dataset/train')\n",
    "VAL_DATA_PATH = os.path.join(PATH_DIR, 'dataset/val')\n",
    "PATH_WEIGHTS = os.path.join(PATH_DIR, 'bin')\n",
    "\n",
    "name_model = 'deep_way.h5'\n",
    "\n",
    "waypoint_file_name = 'waypoints.csv'\n",
    "config_file = 'utils/config.json'"
   ]
  },
  {
   "cell_type": "code",
   "execution_count": null,
   "metadata": {
    "ExecuteTime": {
     "end_time": "2020-10-29T16:31:26.291745Z",
     "start_time": "2020-10-29T16:31:26.277762Z"
    }
   },
   "outputs": [],
   "source": [
    "# important config\n",
    "config = load_config(config_file)"
   ]
  },
  {
   "cell_type": "markdown",
   "metadata": {},
   "source": [
    "# 1.0 Import the Dataset"
   ]
  },
  {
   "cell_type": "markdown",
   "metadata": {},
   "source": [
    "## 1.1 Import the training set"
   ]
  },
  {
   "cell_type": "code",
   "execution_count": null,
   "metadata": {
    "ExecuteTime": {
     "end_time": "2020-10-29T16:31:26.308808Z",
     "start_time": "2020-10-29T16:31:26.292617Z"
    }
   },
   "outputs": [],
   "source": [
    "def dataset_generator():\n",
    "    data_n = config['DATA_N']\n",
    "    MASK_DIM = config['MASK_DIM']   \n",
    "    df = pd.read_csv(os.path.join(TRAIN_DATA_PATH, waypoint_file_name))\n",
    "    indices = list(range(data_n))\n",
    "    np.random.shuffle(indices)\n",
    "    for index in indices:\n",
    "        y = np.empty((MASK_DIM, MASK_DIM), dtype='float32')\n",
    "        X = cv2.bitwise_not(cv2.imread(os.path.join(TRAIN_DATA_PATH, f'img{index}.png'), cv2.IMREAD_GRAYSCALE)) # open grayscale and invert 255\n",
    "        points = df.loc[df['N_img'] == f'img{index}'].to_numpy()[:,1:].astype('uint32')\n",
    "        points_x = points[:,0]\n",
    "        points_y = points[:,1]\n",
    "        y = np.zeros((MASK_DIM,MASK_DIM))\n",
    "        y[points_y, points_x] = config['WAYP_VALUE']\n",
    "        \n",
    "        yield X, resizeAddCorrection(y[None], config['WAYP_VALUE'], config['K'])[0]"
   ]
  },
  {
   "cell_type": "code",
   "execution_count": null,
   "metadata": {
    "ExecuteTime": {
     "end_time": "2020-10-29T16:31:26.472961Z",
     "start_time": "2020-10-29T16:31:26.309689Z"
    }
   },
   "outputs": [],
   "source": [
    "dataset_train = tf.data.Dataset.from_generator(dataset_generator, output_types=(tf.float32, tf.float32), \n",
    "                                         output_shapes = ([config['MASK_DIM'], config['MASK_DIM']], \n",
    "                                                                [config['MASK_DIM']//config['K']\n",
    "                                                                 ,config['MASK_DIM']//config['K'],3]))"
   ]
  },
  {
   "cell_type": "code",
   "execution_count": null,
   "metadata": {
    "ExecuteTime": {
     "end_time": "2020-10-29T16:31:26.489243Z",
     "start_time": "2020-10-29T16:31:26.473821Z"
    }
   },
   "outputs": [],
   "source": [
    "dataset_train = dataset_train.cache().shuffle(1000).batch(batch_size = config['BATCH_SIZE'], drop_remainder=True).prefetch(\n",
    "    tf.data.experimental.AUTOTUNE).repeat(config['EPOCHS'])                                                                                     "
   ]
  },
  {
   "cell_type": "markdown",
   "metadata": {},
   "source": [
    "## 1.2 Import the validation set"
   ]
  },
  {
   "cell_type": "code",
   "execution_count": null,
   "metadata": {
    "ExecuteTime": {
     "end_time": "2020-10-29T16:31:26.508012Z",
     "start_time": "2020-10-29T16:31:26.490819Z"
    }
   },
   "outputs": [],
   "source": [
    "def load_dataset_val():\n",
    "    data_n = config['DATA_N_VAL']\n",
    "    MASK_DIM = config['MASK_DIM']  \n",
    "    X = np.empty((data_n, MASK_DIM, MASK_DIM), dtype='float32')\n",
    "    df = pd.read_csv(os.path.join(VAL_DATA_PATH, waypoint_file_name))\n",
    "    y = np.empty((data_n, MASK_DIM, MASK_DIM), dtype='float32')\n",
    "    for index in tqdm(range(data_n)):\n",
    "        mask = cv2.bitwise_not(cv2.imread(os.path.join(VAL_DATA_PATH, f'img{index}.png'), cv2.IMREAD_GRAYSCALE)) # open grayscale and invert 255\n",
    "        points = df.loc[df['N_img'] == f'img{index}'].to_numpy()[:,1:].astype('uint32')\n",
    "        points_x = points[:,0]\n",
    "        points_y = points[:, 1]\n",
    "        mask_points = np.zeros((MASK_DIM,MASK_DIM))\n",
    "        mask_points[points_y, points_x] = config['WAYP_VALUE']\n",
    "        \n",
    "        X[index,:,:] = mask\n",
    "        y[index,:,:] = mask_points\n",
    "    return X, resizeAddCorrection(y, config['WAYP_VALUE'], config['K'])"
   ]
  },
  {
   "cell_type": "code",
   "execution_count": null,
   "metadata": {
    "ExecuteTime": {
     "end_time": "2020-10-29T16:31:28.278422Z",
     "start_time": "2020-10-29T16:31:26.509071Z"
    }
   },
   "outputs": [],
   "source": [
    "X_val, y_val = load_dataset_val()\n",
    "print(X_val.shape,y_val.shape)"
   ]
  },
  {
   "cell_type": "markdown",
   "metadata": {},
   "source": [
    "# 2.0 Build the Network"
   ]
  },
  {
   "cell_type": "code",
   "execution_count": null,
   "metadata": {
    "ExecuteTime": {
     "end_time": "2020-10-29T16:31:28.949170Z",
     "start_time": "2020-10-29T16:31:28.279298Z"
    }
   },
   "outputs": [],
   "source": [
    "deepway_net = build_deepway(name_model, config['FILTERS'], config['KERNEL_SIZE'],\n",
    "                            config['N'], config['MASK_DIM'])"
   ]
  },
  {
   "cell_type": "code",
   "execution_count": null,
   "metadata": {
    "ExecuteTime": {
     "end_time": "2020-10-29T16:31:28.978369Z",
     "start_time": "2020-10-29T16:31:28.950024Z"
    }
   },
   "outputs": [],
   "source": [
    "deepway_net.summary()"
   ]
  },
  {
   "cell_type": "code",
   "execution_count": null,
   "metadata": {
    "ExecuteTime": {
     "end_time": "2020-10-29T16:31:29.024248Z",
     "start_time": "2020-10-29T16:31:28.979628Z"
    }
   },
   "outputs": [],
   "source": [
    "optimizer = tf.keras.optimizers.Adam(learning_rate=config['lr'],\n",
    "                                     beta_1=0.9, beta_2=0.999)\n",
    "\n",
    "deepway_net.compile(optimizer=optimizer, loss=deepPathLoss)"
   ]
  },
  {
   "cell_type": "markdown",
   "metadata": {},
   "source": [
    "# 3.0 Train the DeepWay"
   ]
  },
  {
   "cell_type": "code",
   "execution_count": null,
   "metadata": {
    "ExecuteTime": {
     "end_time": "2020-10-29T16:31:29.040275Z",
     "start_time": "2020-10-29T16:31:29.025168Z"
    }
   },
   "outputs": [],
   "source": [
    "checkpointer = tf.keras.callbacks.ModelCheckpoint(filepath=os.path.join(PATH_WEIGHTS, name_model), \n",
    "                               monitor = 'val_loss',\n",
    "                               verbose=1, \n",
    "                               save_best_only=True)"
   ]
  },
  {
   "cell_type": "code",
   "execution_count": null,
   "metadata": {
    "ExecuteTime": {
     "end_time": "2020-10-29T16:50:20.047312Z",
     "start_time": "2020-10-29T16:31:30.165378Z"
    },
    "scrolled": false
   },
   "outputs": [],
   "source": [
    "history = deepway_net.fit(dataset_train, initial_epoch = 0,  epochs=config['EPOCHS'],\n",
    "                        steps_per_epoch=config['DATA_N'] // config['BATCH_SIZE'],\n",
    "                        validation_data = (X_val, y_val),validation_steps=config['DATA_N_VAL'],\n",
    "                        callbacks = [checkpointer], )"
   ]
  },
  {
   "cell_type": "code",
   "execution_count": null,
   "metadata": {
    "ExecuteTime": {
     "end_time": "2020-10-29T16:55:17.196940Z",
     "start_time": "2020-10-29T16:55:17.054081Z"
    }
   },
   "outputs": [],
   "source": [
    "plotHistory(history)"
   ]
  },
  {
   "cell_type": "markdown",
   "metadata": {},
   "source": [
    "# 4.0 Test some Random Predictions"
   ]
  },
  {
   "cell_type": "code",
   "execution_count": null,
   "metadata": {
    "ExecuteTime": {
     "end_time": "2020-10-29T16:56:13.896526Z",
     "start_time": "2020-10-29T16:56:13.596689Z"
    }
   },
   "outputs": [],
   "source": [
    "index = 6 # choose a map\n",
    "dist_thresh = 8 # waypoint suppression\n",
    "conf_thresh = 0.3\n",
    "\n",
    "pred = interpret(deepway_net.predict(X_val[index:index+1]),\n",
    "                                 conf_thresh = conf_thresh, dist_thresh = dist_thresh,\n",
    "                         waypoint_prox_sup=True, K=config['K'], MASK_DIM=config['MASK_DIM'])\n",
    "\n",
    "plotData(X_val[index], pred[0])"
   ]
  }
 ],
 "metadata": {
  "kernelspec": {
   "display_name": "Python 3",
   "language": "python",
   "name": "python3"
  },
  "language_info": {
   "codemirror_mode": {
    "name": "ipython",
    "version": 3
   },
   "file_extension": ".py",
   "mimetype": "text/x-python",
   "name": "python",
   "nbconvert_exporter": "python",
   "pygments_lexer": "ipython3",
   "version": "3.6.9"
  },
  "toc": {
   "base_numbering": 1,
   "nav_menu": {},
   "number_sections": false,
   "sideBar": true,
   "skip_h1_title": false,
   "title_cell": "Table of Contents",
   "title_sidebar": "Contents",
   "toc_cell": false,
   "toc_position": {},
   "toc_section_display": true,
   "toc_window_display": true
  },
  "varInspector": {
   "cols": {
    "lenName": 16,
    "lenType": 16,
    "lenVar": 40
   },
   "kernels_config": {
    "python": {
     "delete_cmd_postfix": "",
     "delete_cmd_prefix": "del ",
     "library": "var_list.py",
     "varRefreshCmd": "print(var_dic_list())"
    },
    "r": {
     "delete_cmd_postfix": ") ",
     "delete_cmd_prefix": "rm(",
     "library": "var_list.r",
     "varRefreshCmd": "cat(var_dic_list()) "
    }
   },
   "types_to_exclude": [
    "module",
    "function",
    "builtin_function_or_method",
    "instance",
    "_Feature"
   ],
   "window_display": false
  }
 },
 "nbformat": 4,
 "nbformat_minor": 4
}
