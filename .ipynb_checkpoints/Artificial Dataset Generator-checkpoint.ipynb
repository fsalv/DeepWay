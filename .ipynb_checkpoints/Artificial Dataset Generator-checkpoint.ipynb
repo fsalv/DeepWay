{
 "cells": [
  {
   "cell_type": "markdown",
   "metadata": {},
   "source": [
    "# Artificial Masks Generator\n",
    "\n",
    "Hyper-generalized artificial masks dataset generator"
   ]
  },
  {
   "cell_type": "code",
   "execution_count": null,
   "metadata": {
    "ExecuteTime": {
     "end_time": "2020-10-29T10:31:18.595366Z",
     "start_time": "2020-10-29T10:31:18.473860Z"
    }
   },
   "outputs": [],
   "source": [
    "%matplotlib inline\n",
    "%reload_ext autoreload\n",
    "%autoreload 2"
   ]
  },
  {
   "cell_type": "code",
   "execution_count": null,
   "metadata": {
    "ExecuteTime": {
     "end_time": "2020-10-29T10:31:23.073989Z",
     "start_time": "2020-10-29T10:31:22.927662Z"
    }
   },
   "outputs": [],
   "source": [
    "#imports\n",
    "\n",
    "import os\n",
    "import shutil\n",
    "import cv2\n",
    "import numpy as np\n",
    "import random\n",
    "import pandas as pd\n",
    "import matplotlib.pyplot as plt\n",
    "from tqdm.notebook import tqdm"
   ]
  },
  {
   "cell_type": "code",
   "execution_count": null,
   "metadata": {
    "ExecuteTime": {
     "end_time": "2020-10-29T10:31:26.522302Z",
     "start_time": "2020-10-29T10:31:25.641697Z"
    }
   },
   "outputs": [],
   "source": [
    "from utils.maskgen import *\n",
    "from utils.visualization import *\n",
    "from utils.geometry import *\n",
    "from utils.tools import load_config"
   ]
  },
  {
   "cell_type": "code",
   "execution_count": null,
   "metadata": {
    "ExecuteTime": {
     "end_time": "2020-10-29T10:31:27.290951Z",
     "start_time": "2020-10-29T10:31:27.274122Z"
    }
   },
   "outputs": [],
   "source": [
    "# important paths and names\n",
    "PATH_DIR = os.path.abspath('.')\n",
    "\n",
    "TRAIN_DATA_PATH = os.path.join(PATH_DIR, 'dataset/train')\n",
    "VAL_DATA_PATH = os.path.join(PATH_DIR, 'dataset/val')\n",
    "TEST_DATA_PATH = os.path.join(PATH_DIR, 'dataset/test')\n",
    "\n",
    "waypoint_file_name = 'waypoints.csv'"
   ]
  },
  {
   "cell_type": "markdown",
   "metadata": {},
   "source": [
    "## Parameters\n"
   ]
  },
  {
   "cell_type": "code",
   "execution_count": null,
   "metadata": {
    "ExecuteTime": {
     "end_time": "2020-10-29T13:13:26.328783Z",
     "start_time": "2020-10-29T13:13:26.312567Z"
    }
   },
   "outputs": [],
   "source": [
    "N_SAMPLES_train = 3000\n",
    "N_SAMPLES_val = 300\n",
    "N_SAMPLES_test = 1000"
   ]
  },
  {
   "cell_type": "code",
   "execution_count": null,
   "metadata": {
    "ExecuteTime": {
     "end_time": "2020-10-29T13:13:28.012113Z",
     "start_time": "2020-10-29T13:13:27.974658Z"
    }
   },
   "outputs": [],
   "source": [
    "NROWS_MIN=20 #min number of rows in a parcel\n",
    "NROWS_MAX=50 #max number of rows in a parcel\n",
    "\n",
    "H,W=800,800 # final image resolution\n",
    "\n",
    "#range of holes dimension \n",
    "HOLE_DIM=[3,6]\n",
    "\n",
    "# % probability of generate a hole (for every single point of the rows)\n",
    "HOLE_PROB=0.1\n",
    "\n",
    "# minimum initial and final points before/after a hole\n",
    "HOLE_FRAME=30\n",
    "\n",
    "#range of row thickness \n",
    "RADIUS=[1,2]\n",
    "\n",
    "#border (can't be 0)\n",
    "BORDER = 40\n",
    "BORDER_AREA = (H-2*BORDER)*(W-2*BORDER)\n",
    "\n",
    "# angle variability\n",
    "ANGLE_VAR = 1e-3\n",
    "\n",
    "# border variability\n",
    "BORDER_VAR = 10\n",
    "\n",
    "# ratios for random zoom (max is 100)\n",
    "RATIO = [90,100]"
   ]
  },
  {
   "cell_type": "markdown",
   "metadata": {},
   "source": [
    "## Train dataset generation"
   ]
  },
  {
   "cell_type": "code",
   "execution_count": null,
   "metadata": {
    "ExecuteTime": {
     "end_time": "2020-10-29T15:34:18.431917Z",
     "start_time": "2020-10-29T15:28:55.661962Z"
    },
    "scrolled": false
   },
   "outputs": [],
   "source": [
    "if os.path.isdir(TRAIN_DATA_PATH):\n",
    "    shutil.rmtree(TRAIN_DATA_PATH)\n",
    "os.mkdir(TRAIN_DATA_PATH)\n",
    "\n",
    "wp_dic = {}\n",
    "i = 0\n",
    "for sample in tqdm(range(N_SAMPLES_train)):\n",
    "\n",
    "    nrows = random.randint(NROWS_MIN,NROWS_MAX)        # number of rows\n",
    "    alpha = random.uniform(0,np.pi)                    # orientation\n",
    "\n",
    "    if np.random.uniform()<0.5:                        # generate random borders (50% of time straight lines)\n",
    "        done = False\n",
    "        while not done:\n",
    "            borders = gen_borders(BORDER,H,W)  \n",
    "            done = check_borders_area(borders,BORDER_AREA)\n",
    "    else:\n",
    "        borders = [(np.pi/2,np.array((BORDER,BORDER))),(0,np.array((BORDER,H-BORDER))),\n",
    "                   (-np.pi/2,np.array((W-BORDER,H-BORDER))),(np.pi,np.array((W-BORDER,BORDER)))]\n",
    "    \n",
    "    Q,nrows = find_intrarow_distance(nrows,alpha,borders,(H/2,W/2))\n",
    "    centers = find_centers(nrows,alpha,(H/2,W/2),Q)\n",
    "    \n",
    "    points = [] # start and ending point\n",
    "    for c in centers:        \n",
    "        points.append(gen_start_and_end(alpha,c,borders,H,W,ANGLE_VAR,BORDER_VAR))\n",
    "\n",
    "    mask,row_lines = create_mask(points,H,W,RADIUS,HOLE_PROB,HOLE_DIM,HOLE_FRAME)\n",
    "    wp = gen_waypoints(row_lines)\n",
    "\n",
    "    mask,wp,centers,points = random_zoom(mask,wp,centers,points,RATIO,H,W)\n",
    "\n",
    "    save_img(mask,sample,data_path=TRAIN_DATA_PATH)\n",
    "\n",
    "    #save waypoints in the dict\n",
    "    for index in range(len(wp)):\n",
    "        wp_dic[i] = {'N_img':\"img{}\".format(sample),'x_wp':wp[index][0],'y_wp':wp[index][1],'class': index%2 }\n",
    "        i +=1\n",
    "\n",
    "    #visualize_mask(mask,wp=wp,rad=3,dim=(12,12))\n",
    "\n",
    "#save the datafame\n",
    "df = pd.DataFrame.from_dict(wp_dic, \"index\")\n",
    "df.to_csv(TRAIN_DATA_PATH+'/waypoints.csv', index=False)"
   ]
  },
  {
   "cell_type": "code",
   "execution_count": null,
   "metadata": {
    "ExecuteTime": {
     "end_time": "2020-10-29T13:18:54.576058Z",
     "start_time": "2020-10-29T13:18:54.384644Z"
    }
   },
   "outputs": [],
   "source": [
    "visualize_mask(mask,points=points,wp=wp,rad=3,centers=centers,borders=borders)"
   ]
  },
  {
   "cell_type": "code",
   "execution_count": null,
   "metadata": {
    "ExecuteTime": {
     "end_time": "2020-10-29T13:18:57.856524Z",
     "start_time": "2020-10-29T13:18:57.621975Z"
    },
    "scrolled": false
   },
   "outputs": [],
   "source": [
    "visualize_mask(mask)"
   ]
  },
  {
   "cell_type": "markdown",
   "metadata": {},
   "source": [
    "##  Validation daaset generation"
   ]
  },
  {
   "cell_type": "code",
   "execution_count": null,
   "metadata": {
    "ExecuteTime": {
     "end_time": "2020-10-29T15:34:54.517477Z",
     "start_time": "2020-10-29T15:34:22.313285Z"
    }
   },
   "outputs": [],
   "source": [
    "if os.path.isdir(VAL_DATA_PATH):\n",
    "    shutil.rmtree(VAL_DATA_PATH)\n",
    "os.mkdir(VAL_DATA_PATH)\n",
    "\n",
    "\n",
    "wp_dic = {}\n",
    "i = 0\n",
    "for sample in tqdm(range(N_SAMPLES_val)):\n",
    "\n",
    "    nrows = random.randint(NROWS_MIN,NROWS_MAX)        # number of rows\n",
    "    alpha = random.uniform(0,np.pi)                    # orientation\n",
    "\n",
    "    if np.random.uniform()<0.5:                        # generate random borders (50% of time straight lines)\n",
    "        done = False\n",
    "        while not done:\n",
    "            borders = gen_borders(BORDER,H,W)  \n",
    "            done = check_borders_area(borders,BORDER_AREA)\n",
    "    else:\n",
    "        borders = [(np.pi/2,np.array((BORDER,BORDER))),(0,np.array((BORDER,H-BORDER))),\n",
    "                   (-np.pi/2,np.array((W-BORDER,H-BORDER))),(np.pi,np.array((W-BORDER,BORDER)))]\n",
    "    \n",
    "    Q,nrows = find_intrarow_distance(nrows,alpha,borders,(H/2,W/2))\n",
    "    centers = find_centers(nrows,alpha,(H/2,W/2),Q)\n",
    "    \n",
    "    points = [] # start and ending point\n",
    "    for c in centers:        \n",
    "        points.append(gen_start_and_end(alpha,c,borders,H,W,ANGLE_VAR,BORDER_VAR))\n",
    "\n",
    "    mask,row_lines = create_mask(points,H,W,RADIUS,HOLE_PROB,HOLE_DIM,HOLE_FRAME)\n",
    "    wp = gen_waypoints(row_lines)\n",
    "\n",
    "    mask,wp,centers,points = random_zoom(mask,wp,centers,points,RATIO,H,W)\n",
    "\n",
    "    save_img(mask,sample,data_path=VAL_DATA_PATH)\n",
    "\n",
    "    #save waypoints in the dict\n",
    "    for index in range(len(wp)):\n",
    "        wp_dic[i] = {'N_img':\"img{}\".format(sample),'x_wp':wp[index][0],'y_wp':wp[index][1],'class': index%2 }\n",
    "        i +=1\n",
    "\n",
    "    #visualize_mask(mask,wp=wp,rad=3,dim=(12,12))\n",
    "\n",
    "#save the datafame\n",
    "df = pd.DataFrame.from_dict(wp_dic, \"index\")\n",
    "df.to_csv(VAL_DATA_PATH+'/waypoints.csv', index=False)"
   ]
  },
  {
   "cell_type": "code",
   "execution_count": null,
   "metadata": {
    "ExecuteTime": {
     "end_time": "2020-10-29T15:34:55.786356Z",
     "start_time": "2020-10-29T15:34:55.594469Z"
    }
   },
   "outputs": [],
   "source": [
    "visualize_mask(mask,points=points,wp=wp,rad=3,centers=centers,borders=borders)"
   ]
  },
  {
   "cell_type": "code",
   "execution_count": null,
   "metadata": {
    "ExecuteTime": {
     "end_time": "2020-10-29T15:34:57.047573Z",
     "start_time": "2020-10-29T15:34:56.866959Z"
    }
   },
   "outputs": [],
   "source": [
    "visualize_mask(mask)"
   ]
  },
  {
   "cell_type": "markdown",
   "metadata": {},
   "source": [
    "## Test dataset generation"
   ]
  },
  {
   "cell_type": "code",
   "execution_count": null,
   "metadata": {
    "ExecuteTime": {
     "end_time": "2020-10-29T13:22:38.089711Z",
     "start_time": "2020-10-29T13:20:51.265430Z"
    },
    "scrolled": false
   },
   "outputs": [],
   "source": [
    "if os.path.isdir(TEST_DATA_PATH):\n",
    "    shutil.rmtree(TEST_DATA_PATH)\n",
    "os.mkdir(TEST_DATA_PATH)\n",
    "\n",
    "wp_dic = {}\n",
    "i = 0\n",
    "for sample in tqdm(range(N_SAMPLES_test)):\n",
    "\n",
    "    nrows = random.randint(NROWS_MIN,NROWS_MAX)        # number of rows\n",
    "    alpha = random.uniform(0,np.pi)                    # orientation\n",
    "\n",
    "    if np.random.uniform()<0.5:                        # generate random borders (50% of time straight lines)\n",
    "        done = False\n",
    "        while not done:\n",
    "            borders = gen_borders(BORDER,H,W)  \n",
    "            done = check_borders_area(borders,BORDER_AREA)\n",
    "    else:\n",
    "        borders = [(np.pi/2,np.array((BORDER,BORDER))),(0,np.array((BORDER,H-BORDER))),\n",
    "                   (-np.pi/2,np.array((W-BORDER,H-BORDER))),(np.pi,np.array((W-BORDER,BORDER)))]\n",
    "    \n",
    "    Q,nrows = find_intrarow_distance(nrows,alpha,borders,(H/2,W/2))\n",
    "    centers = find_centers(nrows,alpha,(H/2,W/2),Q)\n",
    "    \n",
    "    points = [] # start and ending point\n",
    "    for c in centers:        \n",
    "        points.append(gen_start_and_end(alpha,c,borders,H,W,ANGLE_VAR,BORDER_VAR))\n",
    "\n",
    "    mask,row_lines = create_mask(points,H,W,RADIUS,HOLE_PROB,HOLE_DIM,HOLE_FRAME)\n",
    "    wp = gen_waypoints(row_lines)\n",
    "\n",
    "    mask,wp,centers,points = random_zoom(mask,wp,centers,points,RATIO,H,W)\n",
    "\n",
    "    save_img(mask,sample,data_path=TEST_DATA_PATH)\n",
    "\n",
    "    #save waypoints in the dict\n",
    "    for index in range(len(wp)):\n",
    "        wp_dic[i] = {'N_img':\"img{}\".format(sample),'x_wp':wp[index][0],'y_wp':wp[index][1],'class': index%2 }\n",
    "        i +=1\n",
    "\n",
    "    #visualize_mask(mask,wp=wp,rad=3,dim=(12,12))\n",
    "\n",
    "#save the datafame\n",
    "df = pd.DataFrame.from_dict(wp_dic, \"index\")\n",
    "df.to_csv(TEST_DATA_PATH+'/waypoints.csv', index=False)"
   ]
  },
  {
   "cell_type": "code",
   "execution_count": null,
   "metadata": {
    "ExecuteTime": {
     "end_time": "2020-10-29T13:22:39.735601Z",
     "start_time": "2020-10-29T13:22:39.547566Z"
    }
   },
   "outputs": [],
   "source": [
    "visualize_mask(mask,points=points,wp=wp,rad=3,centers=centers,borders=borders)"
   ]
  },
  {
   "cell_type": "code",
   "execution_count": null,
   "metadata": {
    "ExecuteTime": {
     "end_time": "2020-10-29T13:22:41.385043Z",
     "start_time": "2020-10-29T13:22:41.206511Z"
    },
    "scrolled": false
   },
   "outputs": [],
   "source": [
    "visualize_mask(mask)"
   ]
  }
 ],
 "metadata": {
  "kernelspec": {
   "display_name": "Python 3",
   "language": "python",
   "name": "python3"
  },
  "language_info": {
   "codemirror_mode": {
    "name": "ipython",
    "version": 3
   },
   "file_extension": ".py",
   "mimetype": "text/x-python",
   "name": "python",
   "nbconvert_exporter": "python",
   "pygments_lexer": "ipython3",
   "version": "3.6.9"
  },
  "toc": {
   "base_numbering": 1,
   "nav_menu": {},
   "number_sections": true,
   "sideBar": true,
   "skip_h1_title": true,
   "title_cell": "Table of Contents",
   "title_sidebar": "Contents",
   "toc_cell": false,
   "toc_position": {},
   "toc_section_display": true,
   "toc_window_display": true
  },
  "varInspector": {
   "cols": {
    "lenName": 16,
    "lenType": 16,
    "lenVar": 40
   },
   "kernels_config": {
    "python": {
     "delete_cmd_postfix": "",
     "delete_cmd_prefix": "del ",
     "library": "var_list.py",
     "varRefreshCmd": "print(var_dic_list())"
    },
    "r": {
     "delete_cmd_postfix": ") ",
     "delete_cmd_prefix": "rm(",
     "library": "var_list.r",
     "varRefreshCmd": "cat(var_dic_list()) "
    }
   },
   "types_to_exclude": [
    "module",
    "function",
    "builtin_function_or_method",
    "instance",
    "_Feature"
   ],
   "window_display": false
  }
 },
 "nbformat": 4,
 "nbformat_minor": 4
}
