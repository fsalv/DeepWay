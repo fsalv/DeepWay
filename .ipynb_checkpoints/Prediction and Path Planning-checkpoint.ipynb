{
 "cells": [
  {
   "cell_type": "markdown",
   "metadata": {},
   "source": [
    "# DeepWay prediction and Path Planning"
   ]
  },
  {
   "cell_type": "code",
   "execution_count": null,
   "metadata": {
    "ExecuteTime": {
     "end_time": "2021-12-01T09:27:58.339926Z",
     "start_time": "2021-12-01T09:27:58.207978Z"
    }
   },
   "outputs": [],
   "source": [
    "%matplotlib inline\n",
    "%reload_ext autoreload\n",
    "%autoreload 2"
   ]
  },
  {
   "cell_type": "code",
   "execution_count": null,
   "metadata": {
    "ExecuteTime": {
     "end_time": "2021-12-01T09:27:59.685788Z",
     "start_time": "2021-12-01T09:27:58.729117Z"
    }
   },
   "outputs": [],
   "source": [
    "# import some data\n",
    "import os\n",
    "import numpy as np\n",
    "import matplotlib.pyplot as plt\n",
    "import pandas as pd\n",
    "import tensorflow as tf\n",
    "from glob import glob\n",
    "import cv2\n",
    "from tqdm.notebook import tqdm"
   ]
  },
  {
   "cell_type": "code",
   "execution_count": null,
   "metadata": {
    "ExecuteTime": {
     "end_time": "2021-12-01T09:28:00.034927Z",
     "start_time": "2021-12-01T09:27:59.747801Z"
    }
   },
   "outputs": [],
   "source": [
    "from utils.geometry import *\n",
    "from utils.visualization import visualize_mask\n",
    "from utils.postprocessing import wp_post_processing\n",
    "from utils.planning import AStarPlanner,plan_path,field_coverage\n",
    "from utils.tools import load_config,read_and_predict\n",
    "from utils.deep_way_net import build_deepway"
   ]
  },
  {
   "cell_type": "code",
   "execution_count": null,
   "metadata": {
    "ExecuteTime": {
     "end_time": "2021-12-01T09:28:00.441377Z",
     "start_time": "2021-12-01T09:28:00.389625Z"
    }
   },
   "outputs": [],
   "source": [
    "gpus = tf.config.experimental.list_physical_devices('GPU')\n",
    "tf.config.experimental.set_visible_devices(gpus[0], 'GPU')\n",
    "tf.config.experimental.set_memory_growth(gpus[0], True)"
   ]
  },
  {
   "cell_type": "code",
   "execution_count": null,
   "metadata": {
    "ExecuteTime": {
     "end_time": "2021-12-01T09:28:06.265587Z",
     "start_time": "2021-12-01T09:28:06.248457Z"
    }
   },
   "outputs": [],
   "source": [
    "# important paths and names\n",
    "PATH_DIR = os.path.abspath('.')\n",
    "\n",
    "TEST_DATA_PATH = os.path.join(PATH_DIR, 'dataset/test')\n",
    "SATELLITE_DATA_PATH = os.path.join(PATH_DIR, 'dataset/satellite')\n",
    "PATH_WEIGHTS = os.path.join(PATH_DIR, 'bin')\n",
    "\n",
    "name_model = 'deep_way_pretrained.h5'\n",
    "#name_model = 'deep_way.h5'\n",
    "\n",
    "\n",
    "waypoint_file_name = 'waypoints_gt.csv'\n",
    "config_file = 'utils/config.json'"
   ]
  },
  {
   "cell_type": "code",
   "execution_count": null,
   "metadata": {
    "ExecuteTime": {
     "end_time": "2021-12-01T09:28:08.351400Z",
     "start_time": "2021-12-01T09:28:08.335392Z"
    }
   },
   "outputs": [],
   "source": [
    "# important config\n",
    "config = load_config(config_file)"
   ]
  },
  {
   "cell_type": "code",
   "execution_count": null,
   "metadata": {
    "ExecuteTime": {
     "end_time": "2021-12-01T09:28:11.646947Z",
     "start_time": "2021-12-01T09:28:11.630754Z"
    }
   },
   "outputs": [],
   "source": [
    "# other important variables\n",
    "\n",
    "#Deepway\n",
    "K = config['K']\n",
    "CONF_THR = 0.9\n",
    "DIST_THR = 8\n",
    "\n",
    "#Astar\n",
    "grid_size=1\n",
    "robot_radius=1.0\n",
    "W=H=config['MASK_DIM']"
   ]
  },
  {
   "cell_type": "markdown",
   "metadata": {},
   "source": [
    "# Load DeepWay"
   ]
  },
  {
   "cell_type": "code",
   "execution_count": null,
   "metadata": {
    "ExecuteTime": {
     "end_time": "2020-10-29T17:00:15.289448Z",
     "start_time": "2020-10-29T17:00:13.186611Z"
    }
   },
   "outputs": [],
   "source": [
    "# load network\n",
    "deepway_net = build_deepway(name_model, config['FILTERS'], config['KERNEL_SIZE'],\n",
    "                            config['N'], config['MASK_DIM'])\n",
    "deepway_net.load_weights(os.path.join(PATH_WEIGHTS, name_model))"
   ]
  },
  {
   "cell_type": "markdown",
   "metadata": {},
   "source": [
    "# Path planning on a single image"
   ]
  },
  {
   "cell_type": "code",
   "execution_count": null,
   "metadata": {
    "ExecuteTime": {
     "end_time": "2020-10-29T17:00:18.601458Z",
     "start_time": "2020-10-29T17:00:18.563525Z"
    },
    "scrolled": true
   },
   "outputs": [],
   "source": [
    "img = 0\n",
    "\n",
    "img_folder = SATELLITE_DATA_PATH  #for satellite test set\n",
    "#img_folder = TEST_DATA_PATH       #for artificial test set\n",
    "\n",
    "img_list = glob(img_folder+\"/img*.png\")\n",
    "img_list = sorted(img_list,key=lambda s: int(s.split('/')[-1][3:-4])) #sort by name\n",
    "img = img_list[img]\n",
    "img"
   ]
  },
  {
   "cell_type": "code",
   "execution_count": null,
   "metadata": {
    "ExecuteTime": {
     "end_time": "2020-10-29T17:00:21.376996Z",
     "start_time": "2020-10-29T17:00:19.467032Z"
    }
   },
   "outputs": [],
   "source": [
    "wp_gt_df = pd.read_csv(img_folder+\"/waypoints.csv\")\n",
    "name = img.split('/')[-1][:-4]\n",
    "x = wp_gt_df.loc[wp_gt_df['N_img'] == name][\"x_wp\"].to_numpy()[:,None]\n",
    "y = wp_gt_df.loc[wp_gt_df['N_img'] == name][\"y_wp\"].to_numpy()[:,None]\n",
    "wp_gt = np.concatenate((x,y),axis=-1)\n",
    "img,wp = read_and_predict(img,deepway_net,CONF_THR,DIST_THR,K)\n",
    "order,cluster_order = wp_post_processing(img,wp)"
   ]
  },
  {
   "cell_type": "code",
   "execution_count": null,
   "metadata": {
    "ExecuteTime": {
     "end_time": "2020-10-29T17:00:21.646619Z",
     "start_time": "2020-10-29T17:00:21.457714Z"
    }
   },
   "outputs": [],
   "source": [
    "visualize_mask(img,path=order)\n",
    "#visualize_mask(img,wp=ground_truth)"
   ]
  },
  {
   "cell_type": "code",
   "execution_count": null,
   "metadata": {
    "ExecuteTime": {
     "end_time": "2020-10-29T17:00:23.766127Z",
     "start_time": "2020-10-29T17:00:21.718588Z"
    }
   },
   "outputs": [],
   "source": [
    "mask = np.bitwise_not(img.astype(\"bool\")) #get mask with obstacles as ones \n",
    "obs_y,obs_x = np.nonzero(mask) #get obstacles coordinates\n",
    "a_star = AStarPlanner(obs_x,obs_y,grid_size,robot_radius,H,W)\n",
    "path = plan_path(order,a_star,smooth=False)"
   ]
  },
  {
   "cell_type": "code",
   "execution_count": null,
   "metadata": {
    "ExecuteTime": {
     "end_time": "2020-10-29T17:00:24.030414Z",
     "start_time": "2020-10-29T17:00:23.841449Z"
    }
   },
   "outputs": [],
   "source": [
    "cov = field_coverage(mask,path,order,cluster_order,wp_gt)\n",
    "print(\"Coverage:\",cov)\n",
    "visualize_mask(img,wp=path,rad=2)"
   ]
  },
  {
   "cell_type": "markdown",
   "metadata": {},
   "source": [
    "# Path planning on the entire datasets and coverage metric"
   ]
  },
  {
   "cell_type": "code",
   "execution_count": null,
   "metadata": {
    "ExecuteTime": {
     "end_time": "2020-10-29T10:06:37.205000Z",
     "start_time": "2020-10-29T10:06:37.187809Z"
    }
   },
   "outputs": [],
   "source": [
    "img_folder = SATELLITE_DATA_PATH  #for satellite test set\n",
    "#img_folder = TEST_DATA_PATH       #for artificial test set\n",
    "\n",
    "img_list = glob(img_folder+\"/img*.png\")\n",
    "img_list = sorted(img_list,key=lambda s: int(s.split('/')[-1][3:-4])) #sort by name\n",
    "#img_list"
   ]
  },
  {
   "cell_type": "markdown",
   "metadata": {},
   "source": [
    "## Prediction and post-processing"
   ]
  },
  {
   "cell_type": "code",
   "execution_count": null,
   "metadata": {
    "ExecuteTime": {
     "end_time": "2020-10-28T13:02:41.659174Z",
     "start_time": "2020-10-28T13:02:36.069889Z"
    }
   },
   "outputs": [],
   "source": [
    "images = []\n",
    "ground_truths = []\n",
    "waypoints = []\n",
    "orders = []\n",
    "cluster_orders = []\n",
    "\n",
    "wp_gt = pd.read_csv(img_folder+\"/waypoints.csv\")\n",
    "\n",
    "for img in tqdm(img_list):\n",
    "    name = img.split('/')[-1][:-4]\n",
    "    x = wp_gt.loc[wp_gt['N_img'] == name][\"x_wp\"].to_numpy()[:,None]\n",
    "    y = wp_gt.loc[wp_gt['N_img'] == name][\"y_wp\"].to_numpy()[:,None]\n",
    "    ground_truths.append(np.concatenate((x,y),axis=-1))\n",
    "    img,wp = read_and_predict(img,deepway_net,CONF_THR,DIST_THR,K)\n",
    "    images.append(img)\n",
    "    waypoints.append(wp)\n",
    "    p,c = wp_post_processing(img,wp)\n",
    "    orders.append(p)\n",
    "    cluster_orders.append(c)"
   ]
  },
  {
   "cell_type": "code",
   "execution_count": null,
   "metadata": {
    "ExecuteTime": {
     "end_time": "2020-10-28T13:02:46.961179Z",
     "start_time": "2020-10-28T13:02:46.806270Z"
    }
   },
   "outputs": [],
   "source": [
    "index = 0\n",
    "visualize_mask(images[index],wp=waypoints[index])\n",
    "#visualize_mask(images[index],wp=ground_truths[index])"
   ]
  },
  {
   "cell_type": "code",
   "execution_count": null,
   "metadata": {
    "ExecuteTime": {
     "end_time": "2020-10-28T13:02:50.807514Z",
     "start_time": "2020-10-28T13:02:50.645192Z"
    },
    "scrolled": false
   },
   "outputs": [],
   "source": [
    "visualize_mask(images[index],path=orders[index])"
   ]
  },
  {
   "cell_type": "markdown",
   "metadata": {},
   "source": [
    "## Path planning (A*)"
   ]
  },
  {
   "cell_type": "code",
   "execution_count": null,
   "metadata": {
    "ExecuteTime": {
     "end_time": "2020-10-28T14:54:28.161929Z",
     "start_time": "2020-10-28T13:53:40.246212Z"
    }
   },
   "outputs": [],
   "source": [
    "paths = []\n",
    "for i in tqdm(range(len(images))):\n",
    "    img = images[i]\n",
    "    p = orders[i]\n",
    "    mask = np.bitwise_not(img.astype(\"bool\"))\n",
    "    obs_y,obs_x = np.nonzero(mask)\n",
    "    a_star = AStarPlanner(obs_x,obs_y,grid_size,robot_radius,H,W)\n",
    "    paths.append(plan_path(p,a_star,img_index=i,smooth=False))"
   ]
  },
  {
   "cell_type": "code",
   "execution_count": null,
   "metadata": {
    "ExecuteTime": {
     "end_time": "2020-10-28T14:55:53.682789Z",
     "start_time": "2020-10-28T14:55:53.518106Z"
    }
   },
   "outputs": [],
   "source": [
    "visualize_mask(images[index],wp=paths[index],rad=2)"
   ]
  },
  {
   "cell_type": "markdown",
   "metadata": {},
   "source": [
    "## Coverage metric "
   ]
  },
  {
   "cell_type": "code",
   "execution_count": null,
   "metadata": {
    "ExecuteTime": {
     "end_time": "2020-10-28T14:55:57.720468Z",
     "start_time": "2020-10-28T14:55:57.060485Z"
    }
   },
   "outputs": [],
   "source": [
    "coverages = []\n",
    "for img,p,wp,c,wp_gt in tqdm(zip(images,paths,orders,cluster_orders,ground_truths),total=len(images)):\n",
    "    mask = np.bitwise_not(img.astype(\"bool\"))\n",
    "    coverages.append(field_coverage(mask,p,wp,c,wp_gt))\n",
    "coverages = np.array(coverages)"
   ]
  },
  {
   "cell_type": "code",
   "execution_count": null,
   "metadata": {
    "ExecuteTime": {
     "end_time": "2020-10-28T12:57:18.736267Z",
     "start_time": "2020-10-28T12:57:18.614714Z"
    }
   },
   "outputs": [],
   "source": [
    "print(\"Mean coverage:\",np.mean(coverages))\n",
    "plt.hist(coverages,20)\n",
    "plt.show()"
   ]
  }
 ],
 "metadata": {
  "kernelspec": {
   "display_name": "Python 3",
   "language": "python",
   "name": "python3"
  },
  "language_info": {
   "codemirror_mode": {
    "name": "ipython",
    "version": 3
   },
   "file_extension": ".py",
   "mimetype": "text/x-python",
   "name": "python",
   "nbconvert_exporter": "python",
   "pygments_lexer": "ipython3",
   "version": "3.6.9"
  },
  "toc": {
   "base_numbering": 1,
   "nav_menu": {},
   "number_sections": false,
   "sideBar": true,
   "skip_h1_title": false,
   "title_cell": "Table of Contents",
   "title_sidebar": "Contents",
   "toc_cell": false,
   "toc_position": {
    "height": "693px",
    "left": "192px",
    "top": "111.133px",
    "width": "190px"
   },
   "toc_section_display": true,
   "toc_window_display": true
  },
  "varInspector": {
   "cols": {
    "lenName": 16,
    "lenType": 16,
    "lenVar": 40
   },
   "kernels_config": {
    "python": {
     "delete_cmd_postfix": "",
     "delete_cmd_prefix": "del ",
     "library": "var_list.py",
     "varRefreshCmd": "print(var_dic_list())"
    },
    "r": {
     "delete_cmd_postfix": ") ",
     "delete_cmd_prefix": "rm(",
     "library": "var_list.r",
     "varRefreshCmd": "cat(var_dic_list()) "
    }
   },
   "types_to_exclude": [
    "module",
    "function",
    "builtin_function_or_method",
    "instance",
    "_Feature"
   ],
   "window_display": false
  }
 },
 "nbformat": 4,
 "nbformat_minor": 4
}
