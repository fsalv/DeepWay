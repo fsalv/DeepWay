{
 "cells": [
  {
   "cell_type": "markdown",
   "metadata": {},
   "source": [
    "# Test DeepWay, a DNN able to Detect Waypoints for Autonomous Navigation in Row based Crops\n",
    "\n",
    "Test DeepWay to automatically detect waypoints from a occupancy grid map of a row based crop. The waypoints can be used to generate aa road map for a UGV. That combined with a local motion planner and data fusion localization methodologies can provide a robust and complete autonomous navigation in vineyards. "
   ]
  },
  {
   "cell_type": "code",
   "execution_count": null,
   "metadata": {
    "ExecuteTime": {
     "end_time": "2020-10-29T16:58:19.881614Z",
     "start_time": "2020-10-29T16:58:19.338955Z"
    }
   },
   "outputs": [],
   "source": [
    "%matplotlib inline\n",
    "%reload_ext autoreload\n",
    "%autoreload 2"
   ]
  },
  {
   "cell_type": "code",
   "execution_count": null,
   "metadata": {
    "ExecuteTime": {
     "end_time": "2020-10-29T16:58:20.863440Z",
     "start_time": "2020-10-29T16:58:19.895100Z"
    }
   },
   "outputs": [],
   "source": [
    "# import some libraries\n",
    "import os\n",
    "import numpy as np\n",
    "import matplotlib.pyplot as plt\n",
    "import tensorflow as tf\n",
    "import pandas as pd\n",
    "import glob\n",
    "import cv2\n",
    "from tqdm.notebook import tqdm\n",
    "from utils.visualization import plotData, plotHistory, plotDataRes, plotImages\n",
    "from utils.tools_net import waypointProxSup, interpret, deepPathLoss, AP\n",
    "from utils.tools import load_config, resizeAddCorrection\n",
    "from utils.deep_way_net import build_deepway"
   ]
  },
  {
   "cell_type": "code",
   "execution_count": null,
   "metadata": {
    "ExecuteTime": {
     "end_time": "2020-10-29T16:58:20.929504Z",
     "start_time": "2020-10-29T16:58:20.897131Z"
    }
   },
   "outputs": [],
   "source": [
    "# select a GPU and set memory growth \n",
    "gpus = tf.config.experimental.list_physical_devices('GPU')\n",
    "tf.config.experimental.set_visible_devices(gpus[1], 'GPU')\n",
    "tf.config.experimental.set_memory_growth(gpus[1], True)"
   ]
  },
  {
   "cell_type": "code",
   "execution_count": null,
   "metadata": {
    "ExecuteTime": {
     "end_time": "2020-10-29T16:58:21.221158Z",
     "start_time": "2020-10-29T16:58:21.205203Z"
    }
   },
   "outputs": [],
   "source": [
    "# important paths and names\n",
    "PATH_DIR = os.path.abspath('.')\n",
    "\n",
    "TEST_DATA_PATH = os.path.join(PATH_DIR, 'dataset/test')\n",
    "SATELLITE_DATA_PATH = os.path.join(PATH_DIR, 'dataset/satellite')\n",
    "PATH_WEIGHTS = os.path.join(PATH_DIR, 'bin')\n",
    "\n",
    "#name_model = 'deep_way_pretrained.h5'\n",
    "name_model = 'deep_way.h5'\n",
    "\n",
    "\n",
    "\n",
    "waypoint_file_name = 'waypoints.csv'\n",
    "config_file = 'utils/config.json'"
   ]
  },
  {
   "cell_type": "code",
   "execution_count": null,
   "metadata": {
    "ExecuteTime": {
     "end_time": "2020-10-29T16:58:23.385171Z",
     "start_time": "2020-10-29T16:58:23.368966Z"
    }
   },
   "outputs": [],
   "source": [
    "# important config\n",
    "config = load_config(config_file)"
   ]
  },
  {
   "cell_type": "markdown",
   "metadata": {},
   "source": [
    "# 1.0 Import the Test Dataset"
   ]
  },
  {
   "cell_type": "code",
   "execution_count": null,
   "metadata": {
    "ExecuteTime": {
     "end_time": "2020-10-29T16:58:30.724347Z",
     "start_time": "2020-10-29T16:58:30.702142Z"
    }
   },
   "outputs": [],
   "source": [
    "def load_dataset_test(df, path_test):\n",
    "    img_list = glob.glob(os.path.join(path_test, '*.png'))\n",
    "    img_list = sorted(img_list,key=lambda s: int(s.split('/')[-1][3:-4])) #sort by name\n",
    "    data_n = len(img_list)\n",
    "    MASK_DIM = config['MASK_DIM'] \n",
    "    X = np.empty((data_n, MASK_DIM, MASK_DIM), dtype='float32')\n",
    "    y = np.empty((data_n, MASK_DIM, MASK_DIM), dtype='float32')\n",
    "    for index,img in tqdm(enumerate(img_list),total=data_n):\n",
    "        name = img.split('/')[-1][:-4]\n",
    "        mask = cv2.bitwise_not(cv2.imread(img, cv2.IMREAD_GRAYSCALE)) # open grayscale and invert 255\n",
    "        points = df.loc[df['N_img'] == name].to_numpy()[:,1:].astype('uint32')\n",
    "        points_x = points[:,0]\n",
    "        points_y = points[:,1]\n",
    "        mask_points = np.zeros((MASK_DIM,MASK_DIM))\n",
    "        mask_points[points_y, points_x] = config['WAYP_VALUE']\n",
    "        \n",
    "        X[index,:,:] = mask\n",
    "        y[index,:,:] = mask_points\n",
    "    return X, resizeAddCorrection(y, config['WAYP_VALUE'], config['K'])"
   ]
  },
  {
   "cell_type": "code",
   "execution_count": null,
   "metadata": {
    "ExecuteTime": {
     "end_time": "2020-10-29T16:58:31.220157Z",
     "start_time": "2020-10-29T16:58:31.199295Z"
    }
   },
   "outputs": [],
   "source": [
    "#img_folder = SATELLITE_DATA_PATH  #for satellite test set\n",
    "img_folder = TEST_DATA_PATH       #for artificial test set\n",
    "\n",
    "df_waypoints_test = pd.read_csv(os.path.join(img_folder, waypoint_file_name))"
   ]
  },
  {
   "cell_type": "code",
   "execution_count": null,
   "metadata": {
    "ExecuteTime": {
     "end_time": "2020-10-29T16:58:31.763420Z",
     "start_time": "2020-10-29T16:58:31.564333Z"
    }
   },
   "outputs": [],
   "source": [
    "X_test, y_test = load_dataset_test(df_waypoints_test, img_folder)"
   ]
  },
  {
   "cell_type": "markdown",
   "metadata": {},
   "source": [
    "# 2.0 Import DeepWay"
   ]
  },
  {
   "cell_type": "code",
   "execution_count": null,
   "metadata": {
    "ExecuteTime": {
     "end_time": "2020-10-29T16:58:33.469363Z",
     "start_time": "2020-10-29T16:58:32.647791Z"
    }
   },
   "outputs": [],
   "source": [
    "# load network\n",
    "deepway_net = build_deepway(name_model, config['FILTERS'], config['KERNEL_SIZE'],\n",
    "                            config['N'], config['MASK_DIM'])\n",
    "deepway_net.load_weights(os.path.join(PATH_WEIGHTS, name_model))"
   ]
  },
  {
   "cell_type": "code",
   "execution_count": null,
   "metadata": {
    "ExecuteTime": {
     "end_time": "2020-10-29T16:58:37.110205Z",
     "start_time": "2020-10-29T16:58:37.093758Z"
    }
   },
   "outputs": [],
   "source": [
    "name_model"
   ]
  },
  {
   "cell_type": "markdown",
   "metadata": {},
   "source": [
    "# 3.0 Test some Random Predictions"
   ]
  },
  {
   "cell_type": "code",
   "execution_count": null,
   "metadata": {
    "ExecuteTime": {
     "end_time": "2020-10-29T16:58:39.758405Z",
     "start_time": "2020-10-29T16:58:37.911650Z"
    }
   },
   "outputs": [],
   "source": [
    "index = 6 # choose a map\n",
    "dist_thresh = 8 # waypoint suppression\n",
    "conf_thresh = 0.3\n",
    "\n",
    "pred = interpret(deepway_net.predict(X_test[index:index+1]),\n",
    "                                 conf_thresh = conf_thresh, dist_thresh = dist_thresh,\n",
    "                         waypoint_prox_sup=True, K=config['K'], MASK_DIM=config['MASK_DIM'])\n",
    "\n",
    "plotData(X_test[index], pred[0])"
   ]
  },
  {
   "cell_type": "markdown",
   "metadata": {},
   "source": [
    "# 4.0 Plot Multiple Images"
   ]
  },
  {
   "cell_type": "code",
   "execution_count": null,
   "metadata": {
    "ExecuteTime": {
     "end_time": "2020-10-29T16:58:41.843898Z",
     "start_time": "2020-10-29T16:58:39.809078Z"
    }
   },
   "outputs": [],
   "source": [
    "index = 20\n",
    "n = 3\n",
    "dist_thresh = 8 # waypoint suppression\n",
    "conf_thresh = 0.3\n",
    "\n",
    "y_pred = interpret(deepway_net.predict(X_test[index:index+n]),\n",
    "                                 conf_thresh = conf_thresh, dist_thresh = dist_thresh, waypoint_prox_sup=True,\n",
    "                               K=config['K'], MASK_DIM=config['MASK_DIM'])\n",
    "\n",
    "plotImages(X_test[index:index+n], y_pred, n)"
   ]
  },
  {
   "cell_type": "markdown",
   "metadata": {},
   "source": [
    "# 5.0 Compute AP"
   ]
  },
  {
   "cell_type": "code",
   "execution_count": null,
   "metadata": {
    "ExecuteTime": {
     "end_time": "2020-10-27T17:02:55.498818Z",
     "start_time": "2020-10-27T17:02:19.113598Z"
    }
   },
   "outputs": [],
   "source": [
    "DIST_RANGE_PERC = 2 # minimum interow distance\n",
    "DIST_TRESH = 8 # waypoint suppression\n",
    "\n",
    "rec_tot, prec_tot = AP(X_test, y_test, deepway_net, True, \n",
    "                       DIST_RANGE = DIST_RANGE_PERC, K=config['K'], MASK_DIM=config['MASK_DIM'], \n",
    "                       WAYP_VALUE = config['WAYP_VALUE'], dist_thresh = DIST_TRESH)"
   ]
  },
  {
   "cell_type": "code",
   "execution_count": null,
   "metadata": {
    "ExecuteTime": {
     "end_time": "2020-10-27T17:02:55.844829Z",
     "start_time": "2020-10-27T17:02:55.727320Z"
    }
   },
   "outputs": [],
   "source": [
    "plt.scatter(rec_tot, prec_tot, c='r', s=15)\n",
    "plt.plot(rec_tot, prec_tot, c='r')\n",
    "plt.title(f\"AP@{DIST_RANGE_PERC}: {np.mean(prec_tot):.4f}\", )\n",
    "plt.xlabel('Recall')\n",
    "plt.ylabel('Precision')\n",
    "#plt.xlim((0.8260,0.8275))\n",
    "plt.grid()\n",
    "plt.show()"
   ]
  }
 ],
 "metadata": {
  "kernelspec": {
   "display_name": "Python 3",
   "language": "python",
   "name": "python3"
  },
  "language_info": {
   "codemirror_mode": {
    "name": "ipython",
    "version": 3
   },
   "file_extension": ".py",
   "mimetype": "text/x-python",
   "name": "python",
   "nbconvert_exporter": "python",
   "pygments_lexer": "ipython3",
   "version": "3.6.9"
  },
  "toc": {
   "base_numbering": 1,
   "nav_menu": {},
   "number_sections": false,
   "sideBar": true,
   "skip_h1_title": false,
   "title_cell": "Table of Contents",
   "title_sidebar": "Contents",
   "toc_cell": false,
   "toc_position": {
    "height": "calc(100% - 180px)",
    "left": "10px",
    "top": "150px",
    "width": "288px"
   },
   "toc_section_display": true,
   "toc_window_display": true
  },
  "varInspector": {
   "cols": {
    "lenName": 16,
    "lenType": 16,
    "lenVar": 40
   },
   "kernels_config": {
    "python": {
     "delete_cmd_postfix": "",
     "delete_cmd_prefix": "del ",
     "library": "var_list.py",
     "varRefreshCmd": "print(var_dic_list())"
    },
    "r": {
     "delete_cmd_postfix": ") ",
     "delete_cmd_prefix": "rm(",
     "library": "var_list.r",
     "varRefreshCmd": "cat(var_dic_list()) "
    }
   },
   "types_to_exclude": [
    "module",
    "function",
    "builtin_function_or_method",
    "instance",
    "_Feature"
   ],
   "window_display": false
  }
 },
 "nbformat": 4,
 "nbformat_minor": 4
}
